{
 "cells": [
  {
   "cell_type": "code",
   "execution_count": 1317,
   "id": "662c61b9",
   "metadata": {},
   "outputs": [],
   "source": [
    "##Enter the number of new orders up to 100 here\n",
    "number_of_new_orders = 20"
   ]
  },
  {
   "cell_type": "code",
   "execution_count": 1318,
   "id": "72d29731",
   "metadata": {},
   "outputs": [
    {
     "data": {
      "text/plain": [
       "<Response [200]>"
      ]
     },
     "execution_count": 1318,
     "metadata": {},
     "output_type": "execute_result"
    }
   ],
   "source": [
    "import requests\n",
    "import os\n",
    "import datetime\n",
    "import pandas as pd\n",
    "import numpy as np\n",
    "import matplotlib.pyplot as plt\n",
    "import gspread\n",
    "import df2gspread as d2g\n",
    "from google.oauth2.service_account import Credentials\n",
    "from gspread_dataframe import set_with_dataframe\n",
    "\n",
    "\n",
    "\n",
    "#gets list of orders from shipstation\n",
    "url = \"https://ssapi.shipstation.com/orders?sortDir=DESC\"\n",
    "\n",
    "\n",
    "payload = {}\n",
    "\n",
    "headers = {\n",
    "  'Host': 'ssapi.shipstation.com',\n",
    "  'Authorization': 'XXXXXXXXXXXXXXXXXXXXX' #your api_key and api_secret UTF-8 encoded\n",
    "}\n",
    "\n",
    "response = requests.get(url, headers=headers, data = payload)\n",
    "\n",
    "\n",
    "#gets list of stores from shipstation\n",
    "url = \"https://ssapi.shipstation.com/stores\"\n",
    "\n",
    "payload = {}\n",
    "headers = {\n",
    "  'Host': 'ssapi.shipstation.com',\n",
    "  'Authorization': 'XXXXXXXXXXXXXXXXXXXXX' #your api_key and api_secret UTF-8 encoded\n",
    "}\n",
    "\n",
    "stores = requests.request(\"GET\", url, headers=headers, data = payload)\n",
    "response\n",
    "stores\n"
   ]
  },
  {
   "cell_type": "code",
   "execution_count": 1319,
   "id": "ccb7a4fa",
   "metadata": {},
   "outputs": [],
   "source": [
    "stores = stores.json()"
   ]
  },
  {
   "cell_type": "code",
   "execution_count": 1320,
   "id": "34044f55",
   "metadata": {},
   "outputs": [],
   "source": [
    "stores_df = pd.DataFrame(stores)"
   ]
  },
  {
   "cell_type": "code",
   "execution_count": 1321,
   "id": "1b176945",
   "metadata": {},
   "outputs": [],
   "source": [
    "stores_df = stores_df[['storeId', 'storeName']]"
   ]
  },
  {
   "cell_type": "code",
   "execution_count": 1322,
   "id": "9100a5ac",
   "metadata": {
    "scrolled": true
   },
   "outputs": [],
   "source": [
    "json = response.json()\n",
    "json = json['orders']"
   ]
  },
  {
   "cell_type": "code",
   "execution_count": 1323,
   "id": "a5dc7c0d",
   "metadata": {},
   "outputs": [],
   "source": [
    "df = pd.DataFrame(json)"
   ]
  },
  {
   "cell_type": "code",
   "execution_count": 1324,
   "id": "4202f5c2",
   "metadata": {},
   "outputs": [],
   "source": [
    "df = df.reindex(index=df.index[::-1])"
   ]
  },
  {
   "cell_type": "code",
   "execution_count": 1325,
   "id": "981b46c4",
   "metadata": {},
   "outputs": [],
   "source": [
    "df = df[['orderDate', 'billTo', 'amountPaid', 'advancedOptions']]"
   ]
  },
  {
   "cell_type": "code",
   "execution_count": 1326,
   "id": "8671ad52",
   "metadata": {},
   "outputs": [],
   "source": [
    "def slice_date (col):\n",
    "    '''\n",
    "    This function is to slice the orderDate column.\n",
    "    '''\n",
    "    date = col[5:10]\n",
    "    \n",
    "    return date\n",
    "    "
   ]
  },
  {
   "cell_type": "code",
   "execution_count": 1327,
   "id": "2ddd8dce",
   "metadata": {},
   "outputs": [],
   "source": [
    "df['orderDate'] = df['orderDate'].apply(slice_date)"
   ]
  },
  {
   "cell_type": "code",
   "execution_count": 1328,
   "id": "2a1b8239",
   "metadata": {},
   "outputs": [],
   "source": [
    "def date_to_sheet_format(date_to_convert):\n",
    "    '''\n",
    "    This function takes a dictionary of <Month Abreviation:Month Number>, and\n",
    "    generates the Month_abreviation when a speicific label is given\n",
    "    Arguments: \n",
    "        dict: a dictionary <key: value>\n",
    "            with month abreviations as the key and numerical labels as the value\n",
    "        val: a string to be converted to a date\n",
    "    Return: \n",
    "        A string that is in the format of '10-Mar'\n",
    "    '''\n",
    "    months_dict = {\n",
    "     'Jan': 1,\n",
    "     'Feb': 2,\n",
    "     'Mar': 3,\n",
    "     'Apr': 4,\n",
    "     'May': 5,\n",
    "     'Jun': 6,\n",
    "     'Jul': 7,\n",
    "     'Aug': 8,\n",
    "     'Sep': 9,\n",
    "     'Oct': 10,\n",
    "     'Nov': 11,\n",
    "     'Dec': 12\n",
    "    }\n",
    "    key_list = list(months_dict.keys())\n",
    "    val_list = list(months_dict.values())\n",
    "    day = int(date_to_convert[3:])\n",
    "    month_number = int(date_to_convert[:2])  \n",
    "    month_abrev = key_list[val_list.index(month_number)]\n",
    "    \n",
    "    return str(day)+ '-' + month_abrev"
   ]
  },
  {
   "cell_type": "code",
   "execution_count": 1329,
   "id": "799eb772",
   "metadata": {},
   "outputs": [],
   "source": [
    "df['orderDate'] = df['orderDate'].apply(date_to_sheet_format)"
   ]
  },
  {
   "cell_type": "code",
   "execution_count": 1330,
   "id": "7b37492d",
   "metadata": {},
   "outputs": [],
   "source": [
    "def name_to_sheet_format (billTo_to_convert):\n",
    "    '''\n",
    "    This function takes a dictionary of billTo info from shipstation and\n",
    "    returns a string in the format of 'lastName, firstName' to be inserted \n",
    "    into the spreadsheet.\n",
    "    Arguments: \n",
    "        billto_to_convert: col of all billTo info from shipstation\n",
    "    Return: \n",
    "        A string in the format of 'lastName, firstName'\n",
    "    '''\n",
    "    return list(billTo_to_convert.values())[0].split(' ', 1)[1].capitalize()+', '+ list(billTo_to_convert.values())[0].split(' ', 1)[0].capitalize()\n",
    "    \n",
    "    "
   ]
  },
  {
   "cell_type": "code",
   "execution_count": 1331,
   "id": "56af1245",
   "metadata": {},
   "outputs": [],
   "source": [
    "df['billTo'] = df['billTo'].apply(name_to_sheet_format)"
   ]
  },
  {
   "cell_type": "code",
   "execution_count": 1332,
   "id": "5db639ce",
   "metadata": {},
   "outputs": [],
   "source": [
    "def ammountPaid_to_sheet_format (ammountPaid_to_convert):\n",
    "    '''\n",
    "    This function takes the ammountPaid float from shipstation and\n",
    "    returns a string in the format of '$ammountPaid' to be inserted \n",
    "    into the spreadsheet.\n",
    "    Arguments: \n",
    "        ammountPaid_to_convert: col of ammountPaid values\n",
    "    Return: \n",
    "        A string in the format of '$ammountPaid'\n",
    "    '''\n",
    "    return '$'+str(ammountPaid_to_convert)"
   ]
  },
  {
   "cell_type": "code",
   "execution_count": 1333,
   "id": "b84e5ba7",
   "metadata": {},
   "outputs": [],
   "source": [
    "df['amountPaid'] = df['amountPaid'].apply(ammountPaid_to_sheet_format)"
   ]
  },
  {
   "cell_type": "code",
   "execution_count": 1334,
   "id": "7789dffa",
   "metadata": {},
   "outputs": [],
   "source": [
    "def get_storeId_from_advancedOptions (advancedOptions_to_convert):\n",
    "    '''\n",
    "    This function takes the advancedOptions dictionary from shipstation and\n",
    "    returns a unique storeId int.\n",
    "    Arguments: \n",
    "        advancedOptions_to_convert: col of advancedOption dictionaries\n",
    "    Return: \n",
    "        A unique storeId int\n",
    "    '''\n",
    "    \n",
    "    return list(advancedOptions_to_convert.values())[7]"
   ]
  },
  {
   "cell_type": "code",
   "execution_count": 1335,
   "id": "b404582e",
   "metadata": {},
   "outputs": [],
   "source": [
    "df['advancedOptions'] = df['advancedOptions'].apply(get_storeId_from_advancedOptions)"
   ]
  },
  {
   "cell_type": "code",
   "execution_count": 1336,
   "id": "b357a18a",
   "metadata": {},
   "outputs": [],
   "source": [
    "df = df.rename(columns={\"advancedOptions\": \"storeId\"})"
   ]
  },
  {
   "cell_type": "code",
   "execution_count": 1337,
   "id": "76367900",
   "metadata": {},
   "outputs": [],
   "source": [
    "#This was the only place that I was able to find website name in the shipstaition order data model\n",
    "def website_to_sheet_format (website_to_convert):\n",
    "    '''\n",
    "    This function takes a dictionary of billTo info from shipstation and\n",
    "    returns a string in the format of 'lastName, firstName' to be inserted \n",
    "    into the spreadsheet.\n",
    "    Arguments: \n",
    "        billto_to_convert: col of all billTo info from shipstation\n",
    "    Return: \n",
    "        A string in the format of 'lastName, firstName'\n",
    "    '''\n",
    "    site_dict = list(stores_df.set_index('storeId').to_dict().values())[0]\n",
    "    site_abbreviation_list = ['Whirlpool Tub Parts', 'Whirlpooltubparts.net', 'Hottubparts.net', 'iPoolandSpaParts.net', 'HydraBathParts.com                           ', 'Whirlpoolpumps.com', 'LascoTubParts.com', 'PDCSpaParts.com                                   ', 'iHottubparts.net', 'Whirlpooltubparts.biz', 'iHotTubParts.com']\n",
    "    site_abbreviation_dict = {\n",
    "     'WPTP': 'Whirlpool Tub Parts',\n",
    "     'WPTP.NET': 'Whirlpooltubparts.net',\n",
    "     'HTP': 'Hottubparts.net',\n",
    "     'Jacuzzi': 'iPoolandSpaParts.net',\n",
    "     'HydraBath': 'HydraBathParts.com                           ',\n",
    "     'PUMPS': 'Whirlpoolpumps.com',\n",
    "     'Lasco': 'LascoTubParts.com',\n",
    "     'PDC': 'PDCSpaParts.com                                   ',\n",
    "     'Sundance': 'iHottubparts.net',\n",
    "     'WPTP.BIZ': 'Whirlpooltubparts.biz',\n",
    "     'HydroQuip': 'iHotTubParts.com'\n",
    "    }\n",
    "    key_list = list(site_dict.keys())\n",
    "    val_list = list(site_dict.values()) \n",
    "    site = val_list[key_list.index(website_to_convert)]\n",
    "    \n",
    "    if site in site_abbreviation_list:\n",
    "        #change to abbreviation based on site\n",
    "        key_list = list(site_abbreviation_dict.keys())\n",
    "        val_list = list(site_abbreviation_dict.values()) \n",
    "        return key_list[val_list.index(site)]\n",
    "    else:\n",
    "        #keep site url as name\n",
    "        return site\n",
    "    \n"
   ]
  },
  {
   "cell_type": "code",
   "execution_count": 1338,
   "id": "6a385c4d",
   "metadata": {},
   "outputs": [],
   "source": [
    "df['storeId'] = df['storeId'].apply(website_to_sheet_format)"
   ]
  },
  {
   "cell_type": "code",
   "execution_count": 1339,
   "id": "e4af1942",
   "metadata": {},
   "outputs": [],
   "source": [
    "final_df = df[['orderDate', 'billTo', 'storeId', 'amountPaid']]"
   ]
  },
  {
   "cell_type": "code",
   "execution_count": 1340,
   "id": "baee5e95",
   "metadata": {},
   "outputs": [],
   "source": [
    "scopes = ['https://www.googleapis.com/auth/spreadsheets',\n",
    "          'https://www.googleapis.com/auth/drive']\n",
    "\n",
    "credentials = Credentials.from_service_account_file('your_service_account_json_file', scopes=scopes)\n",
    "\n",
    "gc = gspread.authorize(credentials)\n",
    "\n",
    "#gauth = GoogleAuth()\n",
    "#drive = GoogleDrive(gauth)\n",
    "\n",
    "# open a google sheet\n",
    "gs = gc.open_by_key('your_google_sheet_key')\n",
    "# select a work sheet from its name\n",
    "worksheet1 = gs.worksheet('Sheet1')"
   ]
  },
  {
   "cell_type": "code",
   "execution_count": 1341,
   "id": "76375a57",
   "metadata": {},
   "outputs": [],
   "source": [
    "worksheet1.clear()\n",
    "set_with_dataframe(worksheet=worksheet1, dataframe=final_df.tail(number_of_orders), include_index=False,\n",
    "include_column_header=True, resize=True)"
   ]
  }
 ],
 "metadata": {
  "kernelspec": {
   "display_name": "Python 3 (ipykernel)",
   "language": "python",
   "name": "python3"
  },
  "language_info": {
   "codemirror_mode": {
    "name": "ipython",
    "version": 3
   },
   "file_extension": ".py",
   "mimetype": "text/x-python",
   "name": "python",
   "nbconvert_exporter": "python",
   "pygments_lexer": "ipython3",
   "version": "3.9.12"
  }
 },
 "nbformat": 4,
 "nbformat_minor": 5
}
